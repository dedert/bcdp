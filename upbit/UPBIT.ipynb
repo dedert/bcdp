{
 "cells": [
  {
   "cell_type": "code",
   "execution_count": 10,
   "metadata": {},
   "outputs": [],
   "source": [
    "%matplotlib inline\n",
    "import requests\n",
    "import time\n",
    "import json\n",
    "import pandas as pd\n",
    "from datetime import datetime, timedelta\n",
    "from pandas.io.json import json_normalize"
   ]
  },
  {
   "cell_type": "markdown",
   "metadata": {},
   "source": [
    "어떤 process?"
   ]
  },
  {
   "cell_type": "markdown",
   "metadata": {},
   "source": [
    "일단은 빠르게 1round 를 돌아보자\n",
    "\n",
    "1round : 1달\n",
    "    \n",
    "    1. collect data : 수치(거래정보 + coin meta정보) + 문자(코인 관련 뉴스) / 일단 거래량 top 10 coins -> save mysql\n",
    "    2. preprocessing\n",
    "    3. modeling /w tensorflow\n",
    "    4. tensorflow + flask : 1분단위 update (buy/hold/sell + reasons)\n",
    "    5. performance monitoring system"
   ]
  },
  {
   "cell_type": "markdown",
   "metadata": {},
   "source": [
    "### 1. collect data"
   ]
  },
  {
   "cell_type": "markdown",
   "metadata": {},
   "source": [
    "* target : BTC, EOS, TRX, BCC, ADA, GRS, ICX, ETH, QTUM, XRP, ZEC, REP, STORM, GTO, SBD, XLM, SC, SNT, ZIL, NEO, ETC, LTC, STEEM"
   ]
  },
  {
   "cell_type": "markdown",
   "metadata": {},
   "source": [
    "* time :2018년 5월 1일 ~ 2018년 5월 14일"
   ]
  },
  {
   "cell_type": "markdown",
   "metadata": {},
   "source": [
    "#### 각 코인별 시간대별 데이터"
   ]
  },
  {
   "cell_type": "markdown",
   "metadata": {},
   "source": [
    "|        변수명        |      설명      |\n",
    "|:--------------------:|:--------------:|\n",
    "|    candleDateTime    |       시간     |\n",
    "|   candleDateTimeKst  |    한국시간    |\n",
    "|     openingPrice     |      시가      |\n",
    "|      highPrice       |      고가      |\n",
    "|       lowPrice       |      저가      |\n",
    "|      tradePrice      | 체결가(최종가) |\n",
    "|  candleAccTradePrice |   누적체결량   |\n",
    "| candleAccTradeVolume |  누적거래대금  |"
   ]
  },
  {
   "cell_type": "markdown",
   "metadata": {},
   "source": [
    "## parameters"
   ]
  },
  {
   "cell_type": "code",
   "execution_count": 48,
   "metadata": {},
   "outputs": [],
   "source": [
    "coin_codes = ['BTC', 'EOS', 'TRX', 'BCC', 'ADA', 'GRS', \n",
    "              'ICX', 'ETH', 'QTUM', 'XRP', 'ZEC', 'REP',\n",
    "              'STORM', 'GTO', 'SBD', 'XLM', 'SC', 'SNT',\n",
    "              'ZIL', 'NEO', 'ETC', 'LTC', 'STEEM']\n",
    "\n",
    "time_unit = 'minutes' # 분단위 데이터\n",
    "minute_type = '1' # 1분\n",
    "market = 'KRW' # KRW, BTC, ETH, USDT\n",
    "count = 1\n",
    "\n",
    "# 2018년 5월 13일 하루치 데이터 가져오기\n",
    "from_date = '2018-05-13 23:59:59'\n",
    "to_date = '2018-05-14 23:59:59'\n",
    "from_datetime = datetime.strptime(from_date, \"%Y-%m-%d %H:%M:%S\")\n",
    "end_datetime = datetime.strptime(to_date, \"%Y-%m-%d %H:%M:%S\")\n",
    "\n",
    "times = []\n",
    "while from_datetime <= end_datetime:\n",
    "    times.append(str(from_datetime))\n",
    "    from_datetime += timedelta(minutes=1)"
   ]
  },
  {
   "cell_type": "code",
   "execution_count": 49,
   "metadata": {},
   "outputs": [],
   "source": [
    "def getCoinInfo(coin_code, date, time_unit='minutes', minute_type='1', market='KRW', count=1):\n",
    "    \"\"\"\n",
    "    upbit api 접속해서 coin 정보 수집\n",
    "    \"\"\"\n",
    "    format_txt = {'time_unit' : time_unit,\n",
    "                 'minute_type' : minute_type,\n",
    "                 'market' : market,\n",
    "                 'coin_code' : coin_code,\n",
    "                 'count' : count,\n",
    "                 'date' : date}\n",
    "    url = \"\"\"https://crix-api-cdn.upbit.com/v1/crix/candles/{time_unit}/{minute_type}\\\n",
    "?code=CRIX.UPBIT.{market}-{coin_code}&\\\n",
    "count={count}&\\\n",
    "to={date}\"\"\".format(**format_txt)\n",
    "    resp = requests.get(url)\n",
    "    d = json.loads(resp.text)\n",
    "    return d"
   ]
  },
  {
   "cell_type": "code",
   "execution_count": 51,
   "metadata": {},
   "outputs": [
    {
     "data": {
      "text/plain": [
       "1441"
      ]
     },
     "execution_count": 51,
     "metadata": {},
     "output_type": "execute_result"
    }
   ],
   "source": [
    "len(times)"
   ]
  },
  {
   "cell_type": "code",
   "execution_count": 52,
   "metadata": {},
   "outputs": [],
   "source": [
    "df_total = pd.DataFrame(columns=['candleAccTradePrice', 'candleAccTradeVolume', 'candleDateTime',\n",
    "       'candleDateTimeKst', 'code', 'highPrice', 'lowPrice', 'openingPrice',\n",
    "       'timestamp', 'tradePrice', 'unit'])"
   ]
  },
  {
   "cell_type": "code",
   "execution_count": 53,
   "metadata": {},
   "outputs": [
    {
     "data": {
      "text/plain": [
       "(0, 11)"
      ]
     },
     "execution_count": 53,
     "metadata": {},
     "output_type": "execute_result"
    }
   ],
   "source": [
    "df_total.shape"
   ]
  },
  {
   "cell_type": "code",
   "execution_count": 54,
   "metadata": {
    "scrolled": false
   },
   "outputs": [
    {
     "ename": "JSONDecodeError",
     "evalue": "Expecting value: line 1 column 1 (char 0)",
     "output_type": "error",
     "traceback": [
      "\u001b[0;31m---------------------------------------------------------------------------\u001b[0m",
      "\u001b[0;31mJSONDecodeError\u001b[0m                           Traceback (most recent call last)",
      "\u001b[0;32m<timed exec>\u001b[0m in \u001b[0;36m<module>\u001b[0;34m()\u001b[0m\n",
      "\u001b[0;32m<ipython-input-49-c0170d1f9efd>\u001b[0m in \u001b[0;36mgetCoinInfo\u001b[0;34m(coin_code, date, time_unit, minute_type, market, count)\u001b[0m\n\u001b[1;32m     11\u001b[0m     \u001b[0murl\u001b[0m \u001b[0;34m=\u001b[0m \u001b[0;34m\"\"\"https://crix-api-cdn.upbit.com/v1/crix/candles/{time_unit}/{minute_type}?code=CRIX.UPBIT.{market}-{coin_code}&count={count}&to={date}\"\"\"\u001b[0m\u001b[0;34m.\u001b[0m\u001b[0mformat\u001b[0m\u001b[0;34m(\u001b[0m\u001b[0;34m**\u001b[0m\u001b[0mformat_txt\u001b[0m\u001b[0;34m)\u001b[0m\u001b[0;34m\u001b[0m\u001b[0m\n\u001b[1;32m     12\u001b[0m     \u001b[0mresp\u001b[0m \u001b[0;34m=\u001b[0m \u001b[0mrequests\u001b[0m\u001b[0;34m.\u001b[0m\u001b[0mget\u001b[0m\u001b[0;34m(\u001b[0m\u001b[0murl\u001b[0m\u001b[0;34m)\u001b[0m\u001b[0;34m\u001b[0m\u001b[0m\n\u001b[0;32m---> 13\u001b[0;31m     \u001b[0md\u001b[0m \u001b[0;34m=\u001b[0m \u001b[0mjson\u001b[0m\u001b[0;34m.\u001b[0m\u001b[0mloads\u001b[0m\u001b[0;34m(\u001b[0m\u001b[0mresp\u001b[0m\u001b[0;34m.\u001b[0m\u001b[0mtext\u001b[0m\u001b[0;34m)\u001b[0m\u001b[0;34m\u001b[0m\u001b[0m\n\u001b[0m\u001b[1;32m     14\u001b[0m     \u001b[0;32mreturn\u001b[0m \u001b[0md\u001b[0m\u001b[0;34m\u001b[0m\u001b[0m\n",
      "\u001b[0;32m/anaconda3/lib/python3.6/json/__init__.py\u001b[0m in \u001b[0;36mloads\u001b[0;34m(s, encoding, cls, object_hook, parse_float, parse_int, parse_constant, object_pairs_hook, **kw)\u001b[0m\n\u001b[1;32m    352\u001b[0m             \u001b[0mparse_int\u001b[0m \u001b[0;32mis\u001b[0m \u001b[0;32mNone\u001b[0m \u001b[0;32mand\u001b[0m \u001b[0mparse_float\u001b[0m \u001b[0;32mis\u001b[0m \u001b[0;32mNone\u001b[0m \u001b[0;32mand\u001b[0m\u001b[0;34m\u001b[0m\u001b[0m\n\u001b[1;32m    353\u001b[0m             parse_constant is None and object_pairs_hook is None and not kw):\n\u001b[0;32m--> 354\u001b[0;31m         \u001b[0;32mreturn\u001b[0m \u001b[0m_default_decoder\u001b[0m\u001b[0;34m.\u001b[0m\u001b[0mdecode\u001b[0m\u001b[0;34m(\u001b[0m\u001b[0ms\u001b[0m\u001b[0;34m)\u001b[0m\u001b[0;34m\u001b[0m\u001b[0m\n\u001b[0m\u001b[1;32m    355\u001b[0m     \u001b[0;32mif\u001b[0m \u001b[0mcls\u001b[0m \u001b[0;32mis\u001b[0m \u001b[0;32mNone\u001b[0m\u001b[0;34m:\u001b[0m\u001b[0;34m\u001b[0m\u001b[0m\n\u001b[1;32m    356\u001b[0m         \u001b[0mcls\u001b[0m \u001b[0;34m=\u001b[0m \u001b[0mJSONDecoder\u001b[0m\u001b[0;34m\u001b[0m\u001b[0m\n",
      "\u001b[0;32m/anaconda3/lib/python3.6/json/decoder.py\u001b[0m in \u001b[0;36mdecode\u001b[0;34m(self, s, _w)\u001b[0m\n\u001b[1;32m    337\u001b[0m \u001b[0;34m\u001b[0m\u001b[0m\n\u001b[1;32m    338\u001b[0m         \"\"\"\n\u001b[0;32m--> 339\u001b[0;31m         \u001b[0mobj\u001b[0m\u001b[0;34m,\u001b[0m \u001b[0mend\u001b[0m \u001b[0;34m=\u001b[0m \u001b[0mself\u001b[0m\u001b[0;34m.\u001b[0m\u001b[0mraw_decode\u001b[0m\u001b[0;34m(\u001b[0m\u001b[0ms\u001b[0m\u001b[0;34m,\u001b[0m \u001b[0midx\u001b[0m\u001b[0;34m=\u001b[0m\u001b[0m_w\u001b[0m\u001b[0;34m(\u001b[0m\u001b[0ms\u001b[0m\u001b[0;34m,\u001b[0m \u001b[0;36m0\u001b[0m\u001b[0;34m)\u001b[0m\u001b[0;34m.\u001b[0m\u001b[0mend\u001b[0m\u001b[0;34m(\u001b[0m\u001b[0;34m)\u001b[0m\u001b[0;34m)\u001b[0m\u001b[0;34m\u001b[0m\u001b[0m\n\u001b[0m\u001b[1;32m    340\u001b[0m         \u001b[0mend\u001b[0m \u001b[0;34m=\u001b[0m \u001b[0m_w\u001b[0m\u001b[0;34m(\u001b[0m\u001b[0ms\u001b[0m\u001b[0;34m,\u001b[0m \u001b[0mend\u001b[0m\u001b[0;34m)\u001b[0m\u001b[0;34m.\u001b[0m\u001b[0mend\u001b[0m\u001b[0;34m(\u001b[0m\u001b[0;34m)\u001b[0m\u001b[0;34m\u001b[0m\u001b[0m\n\u001b[1;32m    341\u001b[0m         \u001b[0;32mif\u001b[0m \u001b[0mend\u001b[0m \u001b[0;34m!=\u001b[0m \u001b[0mlen\u001b[0m\u001b[0;34m(\u001b[0m\u001b[0ms\u001b[0m\u001b[0;34m)\u001b[0m\u001b[0;34m:\u001b[0m\u001b[0;34m\u001b[0m\u001b[0m\n",
      "\u001b[0;32m/anaconda3/lib/python3.6/json/decoder.py\u001b[0m in \u001b[0;36mraw_decode\u001b[0;34m(self, s, idx)\u001b[0m\n\u001b[1;32m    355\u001b[0m             \u001b[0mobj\u001b[0m\u001b[0;34m,\u001b[0m \u001b[0mend\u001b[0m \u001b[0;34m=\u001b[0m \u001b[0mself\u001b[0m\u001b[0;34m.\u001b[0m\u001b[0mscan_once\u001b[0m\u001b[0;34m(\u001b[0m\u001b[0ms\u001b[0m\u001b[0;34m,\u001b[0m \u001b[0midx\u001b[0m\u001b[0;34m)\u001b[0m\u001b[0;34m\u001b[0m\u001b[0m\n\u001b[1;32m    356\u001b[0m         \u001b[0;32mexcept\u001b[0m \u001b[0mStopIteration\u001b[0m \u001b[0;32mas\u001b[0m \u001b[0merr\u001b[0m\u001b[0;34m:\u001b[0m\u001b[0;34m\u001b[0m\u001b[0m\n\u001b[0;32m--> 357\u001b[0;31m             \u001b[0;32mraise\u001b[0m \u001b[0mJSONDecodeError\u001b[0m\u001b[0;34m(\u001b[0m\u001b[0;34m\"Expecting value\"\u001b[0m\u001b[0;34m,\u001b[0m \u001b[0ms\u001b[0m\u001b[0;34m,\u001b[0m \u001b[0merr\u001b[0m\u001b[0;34m.\u001b[0m\u001b[0mvalue\u001b[0m\u001b[0;34m)\u001b[0m \u001b[0;32mfrom\u001b[0m \u001b[0;32mNone\u001b[0m\u001b[0;34m\u001b[0m\u001b[0m\n\u001b[0m\u001b[1;32m    358\u001b[0m         \u001b[0;32mreturn\u001b[0m \u001b[0mobj\u001b[0m\u001b[0;34m,\u001b[0m \u001b[0mend\u001b[0m\u001b[0;34m\u001b[0m\u001b[0m\n",
      "\u001b[0;31mJSONDecodeError\u001b[0m: Expecting value: line 1 column 1 (char 0)"
     ]
    }
   ],
   "source": [
    "%%time\n",
    "# 나중에 sql 로 db 화 할 때는 각 coin 별로 적재\n",
    "result = []\n",
    "for coin in coin_codes:\n",
    "    for t in times:\n",
    "        g = getCoinInfo(coin, t)[0]\n",
    "        result.append(g)"
   ]
  },
  {
   "cell_type": "code",
   "execution_count": 61,
   "metadata": {
    "scrolled": true
   },
   "outputs": [
    {
     "data": {
      "text/plain": [
       "3443"
      ]
     },
     "execution_count": 61,
     "metadata": {},
     "output_type": "execute_result"
    }
   ],
   "source": [
    "len(result)"
   ]
  },
  {
   "cell_type": "code",
   "execution_count": 62,
   "metadata": {},
   "outputs": [],
   "source": [
    "df = pd.DataFrame.from_dict(result)"
   ]
  },
  {
   "cell_type": "code",
   "execution_count": 63,
   "metadata": {},
   "outputs": [
    {
     "data": {
      "text/plain": [
       "(3443, 11)"
      ]
     },
     "execution_count": 63,
     "metadata": {},
     "output_type": "execute_result"
    }
   ],
   "source": [
    "df.shape"
   ]
  },
  {
   "cell_type": "code",
   "execution_count": 68,
   "metadata": {},
   "outputs": [
    {
     "data": {
      "text/plain": [
       "(1441, 11)"
      ]
     },
     "execution_count": 68,
     "metadata": {},
     "output_type": "execute_result"
    }
   ],
   "source": [
    "df_btc = df[df['code'] == 'CRIX.UPBIT.KRW-BTC']\n",
    "df_btc.shape"
   ]
  },
  {
   "cell_type": "code",
   "execution_count": 71,
   "metadata": {},
   "outputs": [
    {
     "data": {
      "text/plain": [
       "(1441, 11)"
      ]
     },
     "execution_count": 71,
     "metadata": {},
     "output_type": "execute_result"
    }
   ],
   "source": [
    "df_trx = df[df['code'] == 'CRIX.UPBIT.KRW-EOS']\n",
    "df_trx.shape"
   ]
  },
  {
   "cell_type": "code",
   "execution_count": 72,
   "metadata": {},
   "outputs": [],
   "source": [
    "from scipy.stats.stats import pearsonr"
   ]
  },
  {
   "cell_type": "code",
   "execution_count": 73,
   "metadata": {},
   "outputs": [
    {
     "data": {
      "text/plain": [
       "(0.6490577619381902, 4.05871778919473e-173)"
      ]
     },
     "execution_count": 73,
     "metadata": {},
     "output_type": "execute_result"
    }
   ],
   "source": [
    "pearsonr(df_btc['tradePrice'], df_trx['tradePrice'])"
   ]
  },
  {
   "cell_type": "code",
   "execution_count": 74,
   "metadata": {},
   "outputs": [
    {
     "ename": "ModuleNotFoundError",
     "evalue": "No module named 'ggplot'",
     "output_type": "error",
     "traceback": [
      "\u001b[0;31m---------------------------------------------------------------------------\u001b[0m",
      "\u001b[0;31mModuleNotFoundError\u001b[0m                       Traceback (most recent call last)",
      "\u001b[0;32m<ipython-input-74-8cb601439f0f>\u001b[0m in \u001b[0;36m<module>\u001b[0;34m()\u001b[0m\n\u001b[0;32m----> 1\u001b[0;31m \u001b[0;32mfrom\u001b[0m \u001b[0mggplot\u001b[0m \u001b[0;32mimport\u001b[0m \u001b[0;34m*\u001b[0m\u001b[0;34m\u001b[0m\u001b[0m\n\u001b[0m",
      "\u001b[0;31mModuleNotFoundError\u001b[0m: No module named 'ggplot'"
     ]
    }
   ],
   "source": [
    "from ggplot import *"
   ]
  },
  {
   "cell_type": "code",
   "execution_count": 37,
   "metadata": {},
   "outputs": [
    {
     "data": {
      "text/plain": [
       "<matplotlib.axes._subplots.AxesSubplot at 0x109f297f0>"
      ]
     },
     "execution_count": 37,
     "metadata": {},
     "output_type": "execute_result"
    },
    {
     "data": {
      "image/png": "[encoded data removed]",
      "text/plain": [
       "<matplotlib.figure.Figure at 0x109634978>"
      ]
     },
     "metadata": {},
     "output_type": "display_data"
    }
   ],
   "source": [
    "df_btc['tradePrice'].plot()"
   ]
  },
  {
   "cell_type": "code",
   "execution_count": 34,
   "metadata": {
    "scrolled": true
   },
   "outputs": [
    {
     "data": {
      "text/plain": [
       "<matplotlib.axes._subplots.AxesSubplot at 0x1096346d8>"
      ]
     },
     "execution_count": 34,
     "metadata": {},
     "output_type": "execute_result"
    },
    {
     "data": {
      "image/png": "[encoded data removed]",
      "text/plain": [
       "<matplotlib.figure.Figure at 0x10962bdd8>"
      ]
     },
     "metadata": {},
     "output_type": "display_data"
    }
   ],
   "source": [
    "df['tradePrice'].plot()"
   ]
  },
  {
   "cell_type": "code",
   "execution_count": 152,
   "metadata": {},
   "outputs": [
    {
     "data": {
      "text/plain": [
       "[{'candleAccTradePrice': 63874941.09111,\n",
       "  'candleAccTradeVolume': 6.65023063,\n",
       "  'candleDateTime': '2018-05-13T11:59:00+00:00',\n",
       "  'candleDateTimeKst': '2018-05-13T20:59:00+09:00',\n",
       "  'code': 'CRIX.UPBIT.KRW-BTC',\n",
       "  'highPrice': 9609000.0,\n",
       "  'lowPrice': 9595000.0,\n",
       "  'openingPrice': 9604000.0,\n",
       "  'timestamp': 1526212805971,\n",
       "  'tradePrice': 9599000.0,\n",
       "  'unit': 1}]"
      ]
     },
     "execution_count": 152,
     "metadata": {},
     "output_type": "execute_result"
    }
   ],
   "source": [
    "result[0]"
   ]
  },
  {
   "cell_type": "code",
   "execution_count": 115,
   "metadata": {},
   "outputs": [],
   "source": [
    "url = \"\"\"https://crix-api-cdn.upbit.com/v1/crix/candles/{time_unit}/{minute_type}\\\n",
    "?code=CRIX.UPBIT.{market}-{coin_code}&\\\n",
    "count={count}&\\\n",
    "to={date}\"\"\".format(**format_txt)"
   ]
  },
  {
   "cell_type": "code",
   "execution_count": 116,
   "metadata": {},
   "outputs": [],
   "source": [
    "resp = requests.get(url)\n",
    "d = json.loads(resp.text)"
   ]
  },
  {
   "cell_type": "code",
   "execution_count": 114,
   "metadata": {},
   "outputs": [],
   "source": []
  },
  {
   "cell_type": "code",
   "execution_count": 118,
   "metadata": {},
   "outputs": [
    {
     "data": {
      "text/plain": [
       "[{'candleAccTradePrice': 63874941.09111,\n",
       "  'candleAccTradeVolume': 6.65023063,\n",
       "  'candleDateTime': '2018-05-13T11:59:00+00:00',\n",
       "  'candleDateTimeKst': '2018-05-13T20:59:00+09:00',\n",
       "  'code': 'CRIX.UPBIT.KRW-BTC',\n",
       "  'highPrice': 9609000.0,\n",
       "  'lowPrice': 9595000.0,\n",
       "  'openingPrice': 9604000.0,\n",
       "  'timestamp': 1526212805971,\n",
       "  'tradePrice': 9599000.0,\n",
       "  'unit': 1},\n",
       " {'candleAccTradePrice': 26088510.97823,\n",
       "  'candleAccTradeVolume': 2.71765608,\n",
       "  'candleDateTime': '2018-05-13T11:58:00+00:00',\n",
       "  'candleDateTimeKst': '2018-05-13T20:58:00+09:00',\n",
       "  'code': 'CRIX.UPBIT.KRW-BTC',\n",
       "  'highPrice': 9605000.0,\n",
       "  'lowPrice': 9596000.0,\n",
       "  'openingPrice': 9600000.0,\n",
       "  'timestamp': 1526212744740,\n",
       "  'tradePrice': 9605000.0,\n",
       "  'unit': 1},\n",
       " {'candleAccTradePrice': 21349521.07293,\n",
       "  'candleAccTradeVolume': 2.22428478,\n",
       "  'candleDateTime': '2018-05-13T11:57:00+00:00',\n",
       "  'candleDateTimeKst': '2018-05-13T20:57:00+09:00',\n",
       "  'code': 'CRIX.UPBIT.KRW-BTC',\n",
       "  'highPrice': 9600000.0,\n",
       "  'lowPrice': 9595000.0,\n",
       "  'openingPrice': 9600000.0,\n",
       "  'timestamp': 1526212682678,\n",
       "  'tradePrice': 9600000.0,\n",
       "  'unit': 1}]"
      ]
     },
     "execution_count": 118,
     "metadata": {},
     "output_type": "execute_result"
    }
   ],
   "source": [
    "d"
   ]
  },
  {
   "cell_type": "code",
   "execution_count": 117,
   "metadata": {},
   "outputs": [
    {
     "data": {
      "text/html": [
       "<div>\n",
       "<style scoped>\n",
       "    .dataframe tbody tr th:only-of-type {\n",
       "        vertical-align: middle;\n",
       "    }\n",
       "\n",
       "    .dataframe tbody tr th {\n",
       "        vertical-align: top;\n",
       "    }\n",
       "\n",
       "    .dataframe thead th {\n",
       "        text-align: right;\n",
       "    }\n",
       "</style>\n",
       "<table border=\"1\" class=\"dataframe\">\n",
       "  <thead>\n",
       "    <tr style=\"text-align: right;\">\n",
       "      <th></th>\n",
       "      <th>candleAccTradePrice</th>\n",
       "      <th>candleAccTradeVolume</th>\n",
       "      <th>candleDateTime</th>\n",
       "      <th>candleDateTimeKst</th>\n",
       "      <th>code</th>\n",
       "      <th>highPrice</th>\n",
       "      <th>lowPrice</th>\n",
       "      <th>openingPrice</th>\n",
       "      <th>timestamp</th>\n",
       "      <th>tradePrice</th>\n",
       "      <th>unit</th>\n",
       "    </tr>\n",
       "  </thead>\n",
       "  <tbody>\n",
       "    <tr>\n",
       "      <th>0</th>\n",
       "      <td>6.387494e+07</td>\n",
       "      <td>6.650231</td>\n",
       "      <td>2018-05-13T11:59:00+00:00</td>\n",
       "      <td>2018-05-13T20:59:00+09:00</td>\n",
       "      <td>CRIX.UPBIT.KRW-BTC</td>\n",
       "      <td>9609000.0</td>\n",
       "      <td>9595000.0</td>\n",
       "      <td>9604000.0</td>\n",
       "      <td>1526212805971</td>\n",
       "      <td>9599000.0</td>\n",
       "      <td>1</td>\n",
       "    </tr>\n",
       "    <tr>\n",
       "      <th>1</th>\n",
       "      <td>2.608851e+07</td>\n",
       "      <td>2.717656</td>\n",
       "      <td>2018-05-13T11:58:00+00:00</td>\n",
       "      <td>2018-05-13T20:58:00+09:00</td>\n",
       "      <td>CRIX.UPBIT.KRW-BTC</td>\n",
       "      <td>9605000.0</td>\n",
       "      <td>9596000.0</td>\n",
       "      <td>9600000.0</td>\n",
       "      <td>1526212744740</td>\n",
       "      <td>9605000.0</td>\n",
       "      <td>1</td>\n",
       "    </tr>\n",
       "    <tr>\n",
       "      <th>2</th>\n",
       "      <td>2.134952e+07</td>\n",
       "      <td>2.224285</td>\n",
       "      <td>2018-05-13T11:57:00+00:00</td>\n",
       "      <td>2018-05-13T20:57:00+09:00</td>\n",
       "      <td>CRIX.UPBIT.KRW-BTC</td>\n",
       "      <td>9600000.0</td>\n",
       "      <td>9595000.0</td>\n",
       "      <td>9600000.0</td>\n",
       "      <td>1526212682678</td>\n",
       "      <td>9600000.0</td>\n",
       "      <td>1</td>\n",
       "    </tr>\n",
       "  </tbody>\n",
       "</table>\n",
       "</div>"
      ],
      "text/plain": [
       "   candleAccTradePrice  candleAccTradeVolume             candleDateTime  \\\n",
       "0         6.387494e+07              6.650231  2018-05-13T11:59:00+00:00   \n",
       "1         2.608851e+07              2.717656  2018-05-13T11:58:00+00:00   \n",
       "2         2.134952e+07              2.224285  2018-05-13T11:57:00+00:00   \n",
       "\n",
       "           candleDateTimeKst                code  highPrice   lowPrice  \\\n",
       "0  2018-05-13T20:59:00+09:00  CRIX.UPBIT.KRW-BTC  9609000.0  9595000.0   \n",
       "1  2018-05-13T20:58:00+09:00  CRIX.UPBIT.KRW-BTC  9605000.0  9596000.0   \n",
       "2  2018-05-13T20:57:00+09:00  CRIX.UPBIT.KRW-BTC  9600000.0  9595000.0   \n",
       "\n",
       "   openingPrice      timestamp  tradePrice  unit  \n",
       "0     9604000.0  1526212805971   9599000.0     1  \n",
       "1     9600000.0  1526212744740   9605000.0     1  \n",
       "2     9600000.0  1526212682678   9600000.0     1  "
      ]
     },
     "execution_count": 117,
     "metadata": {},
     "output_type": "execute_result"
    }
   ],
   "source": [
    "json_normalize(d)"
   ]
  },
  {
   "cell_type": "code",
   "execution_count": 110,
   "metadata": {
    "scrolled": true
   },
   "outputs": [
    {
     "data": {
      "text/plain": [
       "'https://crix-api-cdn.upbit.com/v1/crix/candles/minutes/1?code=CRIX.UPBIT.KRW-BTC&count=1&to=2018-05-13%2012:00:00'"
      ]
     },
     "execution_count": 110,
     "metadata": {},
     "output_type": "execute_result"
    }
   ],
   "source": [
    "url"
   ]
  },
  {
   "cell_type": "code",
   "execution_count": 112,
   "metadata": {},
   "outputs": [],
   "source": []
  },
  {
   "cell_type": "code",
   "execution_count": 113,
   "metadata": {},
   "outputs": [
    {
     "data": {
      "text/plain": [
       "{'candleAccTradePrice': 63874941.09111,\n",
       " 'candleAccTradeVolume': 6.65023063,\n",
       " 'candleDateTime': '2018-05-13T11:59:00+00:00',\n",
       " 'candleDateTimeKst': '2018-05-13T20:59:00+09:00',\n",
       " 'code': 'CRIX.UPBIT.KRW-BTC',\n",
       " 'highPrice': 9609000.0,\n",
       " 'lowPrice': 9595000.0,\n",
       " 'openingPrice': 9604000.0,\n",
       " 'timestamp': 1526212805971,\n",
       " 'tradePrice': 9599000.0,\n",
       " 'unit': 1}"
      ]
     },
     "execution_count": 113,
     "metadata": {},
     "output_type": "execute_result"
    }
   ],
   "source": [
    "d[0]"
   ]
  },
  {
   "cell_type": "code",
   "execution_count": 107,
   "metadata": {},
   "outputs": [
    {
     "data": {
      "text/plain": [
       "'2018-05-13 12:00:05 Sun'"
      ]
     },
     "execution_count": 107,
     "metadata": {},
     "output_type": "execute_result"
    }
   ],
   "source": [
    "timestamp = d[0]['timestamp']\n",
    "time.strftime(\"%Y-%m-%d %H:%M:%S %a\", time.gmtime(timestamp / 1000.0))"
   ]
  },
  {
   "cell_type": "code",
   "execution_count": 79,
   "metadata": {},
   "outputs": [
    {
     "data": {
      "text/plain": [
       "1526212805971"
      ]
     },
     "execution_count": 79,
     "metadata": {},
     "output_type": "execute_result"
    }
   ],
   "source": [
    "d[0]['timestamp']"
   ]
  },
  {
   "cell_type": "code",
   "execution_count": 87,
   "metadata": {},
   "outputs": [
    {
     "ename": "TypeError",
     "evalue": "an integer is required (got type str)",
     "output_type": "error",
     "traceback": [
      "\u001b[1;31m---------------------------------------------------------------------------\u001b[0m",
      "\u001b[1;31mTypeError\u001b[0m                                 Traceback (most recent call last)",
      "\u001b[1;32m<ipython-input-87-76dc739a695f>\u001b[0m in \u001b[0;36m<module>\u001b[1;34m()\u001b[0m\n\u001b[1;32m----> 1\u001b[1;33m \u001b[0mdatetime\u001b[0m\u001b[1;33m.\u001b[0m\u001b[0mutcfromtimestamp\u001b[0m\u001b[1;33m(\u001b[0m\u001b[1;34m\"1526212805971\"\u001b[0m\u001b[1;33m)\u001b[0m\u001b[1;33m.\u001b[0m\u001b[0mstrftime\u001b[0m\u001b[1;33m(\u001b[0m\u001b[1;34m'%Y-%m-%dT%H:%M:%SZ'\u001b[0m\u001b[1;33m)\u001b[0m\u001b[1;33m\u001b[0m\u001b[0m\n\u001b[0m",
      "\u001b[1;31mTypeError\u001b[0m: an integer is required (got type str)"
     ]
    }
   ],
   "source": [
    "datetime.utcfromtimestamp(\"1526212805971\").strftime('%Y-%m-%dT%H:%M:%SZ')"
   ]
  },
  {
   "cell_type": "code",
   "execution_count": 80,
   "metadata": {},
   "outputs": [
    {
     "ename": "OSError",
     "evalue": "[Errno 22] Invalid argument",
     "output_type": "error",
     "traceback": [
      "\u001b[1;31m---------------------------------------------------------------------------\u001b[0m",
      "\u001b[1;31mOSError\u001b[0m                                   Traceback (most recent call last)",
      "\u001b[1;32m<ipython-input-80-40ec43b0487b>\u001b[0m in \u001b[0;36m<module>\u001b[1;34m()\u001b[0m\n\u001b[0;32m      2\u001b[0m print(\n\u001b[0;32m      3\u001b[0m     datetime.datetime.fromtimestamp(\n\u001b[1;32m----> 4\u001b[1;33m         \u001b[0mint\u001b[0m\u001b[1;33m(\u001b[0m\u001b[1;34m\"1526212805971\"\u001b[0m\u001b[1;33m)\u001b[0m\u001b[1;33m\u001b[0m\u001b[0m\n\u001b[0m\u001b[0;32m      5\u001b[0m     ).strftime('%Y-%m-%d %H:%M:%S')\n\u001b[0;32m      6\u001b[0m )\n",
      "\u001b[1;31mOSError\u001b[0m: [Errno 22] Invalid argument"
     ]
    }
   ],
   "source": [
    "\n",
    "print(\n",
    "    datetime.datetime.fromtimestamp(\n",
    "        int(\"1526212805971\")\n",
    "    ).strftime('%Y-%m-%d %H:%M:%S')\n",
    ")"
   ]
  },
  {
   "cell_type": "code",
   "execution_count": 65,
   "metadata": {
    "scrolled": true
   },
   "outputs": [
    {
     "data": {
      "text/plain": [
       "'[{\"code\":\"CRIX.UPBIT.KRW-BTC\",\"candleDateTime\":\"2018-05-13T11:59:00+00:00\",\"candleDateTimeKst\":\"2018-05-13T20:59:00+09:00\",\"openingPrice\":9604000.00000000,\"highPrice\":9609000.00000000,\"lowPrice\":9595000.00000000,\"tradePrice\":9599000.00000000,\"candleAccTradeVolume\":6.65023063,\"candleAccTradePrice\":63874941.09111000,\"timestamp\":1526212805971,\"unit\":1},{\"code\":\"CRIX.UPBIT.KRW-BTC\",\"candleDateTime\":\"2018-05-13T11:58:00+00:00\",\"candleDateTimeKst\":\"2018-05-13T20:58:00+09:00\",\"openingPrice\":9600000.00000000,\"highPrice\":9605000.00000000,\"lowPrice\":9596000.00000000,\"tradePrice\":9605000.00000000,\"candleAccTradeVolume\":2.71765608,\"candleAccTradePrice\":26088510.97823000,\"timestamp\":1526212744740,\"unit\":1},{\"code\":\"CRIX.UPBIT.KRW-BTC\",\"candleDateTime\":\"2018-05-13T11:57:00+00:00\",\"candleDateTimeKst\":\"2018-05-13T20:57:00+09:00\",\"openingPrice\":9600000.00000000,\"highPrice\":9600000.00000000,\"lowPrice\":9595000.00000000,\"tradePrice\":9600000.00000000,\"candleAccTradeVolume\":2.22428478,\"candleAccTradePrice\":21349521.07293000,\"timestamp\":1526212682678,\"unit\":1},{\"code\":\"CRIX.UPBIT.KRW-BTC\",\"candleDateTime\":\"2018-05-13T11:56:00+00:00\",\"candleDateTimeKst\":\"2018-05-13T20:56:00+09:00\",\"openingPrice\":9591000.00000000,\"highPrice\":9599000.00000000,\"lowPrice\":9590000.00000000,\"tradePrice\":9595000.00000000,\"candleAccTradeVolume\":3.85902896,\"candleAccTradePrice\":37020505.05664000,\"timestamp\":1526212621167,\"unit\":1},{\"code\":\"CRIX.UPBIT.KRW-BTC\",\"candleDateTime\":\"2018-05-13T11:55:00+00:00\",\"candleDateTimeKst\":\"2018-05-13T20:55:00+09:00\",\"openingPrice\":9595000.00000000,\"highPrice\":9595000.00000000,\"lowPrice\":9591000.00000000,\"tradePrice\":9595000.00000000,\"candleAccTradeVolume\":3.62452966,\"candleAccTradePrice\":34773776.92265000,\"timestamp\":1526212566497,\"unit\":1},{\"code\":\"CRIX.UPBIT.KRW-BTC\",\"candleDateTime\":\"2018-05-13T11:54:00+00:00\",\"candleDateTimeKst\":\"2018-05-13T20:54:00+09:00\",\"openingPrice\":9593000.00000000,\"highPrice\":9599000.00000000,\"lowPrice\":9592000.00000000,\"tradePrice\":9595000.00000000,\"candleAccTradeVolume\":3.58061003,\"candleAccTradePrice\":34349545.84403000,\"timestamp\":1526212506183,\"unit\":1},{\"code\":\"CRIX.UPBIT.KRW-BTC\",\"candleDateTime\":\"2018-05-13T11:53:00+00:00\",\"candleDateTimeKst\":\"2018-05-13T20:53:00+09:00\",\"openingPrice\":9594000.00000000,\"highPrice\":9595000.00000000,\"lowPrice\":9592000.00000000,\"tradePrice\":9593000.00000000,\"candleAccTradeVolume\":2.60531361,\"candleAccTradePrice\":24995374.65239000,\"timestamp\":1526212445589,\"unit\":1},{\"code\":\"CRIX.UPBIT.KRW-BTC\",\"candleDateTime\":\"2018-05-13T11:52:00+00:00\",\"candleDateTimeKst\":\"2018-05-13T20:52:00+09:00\",\"openingPrice\":9589000.00000000,\"highPrice\":9599000.00000000,\"lowPrice\":9587000.00000000,\"tradePrice\":9594000.00000000,\"candleAccTradeVolume\":10.76410909,\"candleAccTradePrice\":103228899.01835000,\"timestamp\":1526212385864,\"unit\":1},{\"code\":\"CRIX.UPBIT.KRW-BTC\",\"candleDateTime\":\"2018-05-13T11:51:00+00:00\",\"candleDateTimeKst\":\"2018-05-13T20:51:00+09:00\",\"openingPrice\":9604000.00000000,\"highPrice\":9609000.00000000,\"lowPrice\":9583000.00000000,\"tradePrice\":9588000.00000000,\"candleAccTradeVolume\":16.68680969,\"candleAccTradePrice\":160088448.22945000,\"timestamp\":1526212323552,\"unit\":1},{\"code\":\"CRIX.UPBIT.KRW-BTC\",\"candleDateTime\":\"2018-05-13T11:50:00+00:00\",\"candleDateTimeKst\":\"2018-05-13T20:50:00+09:00\",\"openingPrice\":9605000.00000000,\"highPrice\":9606000.00000000,\"lowPrice\":9603000.00000000,\"tradePrice\":9604000.00000000,\"candleAccTradeVolume\":9.17436555,\"candleAccTradePrice\":88109495.20139000,\"timestamp\":1526212265995,\"unit\":1}]'"
      ]
     },
     "execution_count": 65,
     "metadata": {},
     "output_type": "execute_result"
    }
   ],
   "source": [
    "resp.text"
   ]
  },
  {
   "cell_type": "code",
   "execution_count": 38,
   "metadata": {},
   "outputs": [
    {
     "data": {
      "text/plain": [
       "'[{\"code\":\"CRIX.UPBIT.KRW-BTC\",\"candleDateTime\":\"2018-05-13T11:59:00+00:00\",\"candleDateTimeKst\":\"2018-05-13T20:59:00+09:00\",\"openingPrice\":9604000.00000000,\"highPrice\":9609000.00000000,\"lowPrice\":9595000.00000000,\"tradePrice\":9599000.00000000,\"candleAccTradeVolume\":6.65023063,\"candleAccTradePrice\":63874941.09111000,\"timestamp\":1526212805971,\"unit\":1}]'"
      ]
     },
     "execution_count": 38,
     "metadata": {},
     "output_type": "execute_result"
    }
   ],
   "source": [
    "resp.text"
   ]
  },
  {
   "cell_type": "code",
   "execution_count": null,
   "metadata": {},
   "outputs": [],
   "source": [
    "기간타입: minutes, days, weeks, months (hours는 없으며 minutes로 대체)\n",
    "기간: 1, 3, 5, 10, 15, 30, 60, 240 (기간타입 minutes만 해당)\n",
    "마켓: KRW, BTC, ETH, USDT\n",
    "암호화폐기호: BTC, ETH, XRP, STEEM, SBD 등 각 마켓의 지원 암호화폐\n",
    "시세데이터수: 1(기본값), 2, 3, 4 등 원하는 시세 데이터 수 (최종시세데이터일시 기준)\n",
    "최종시세데이터일시: 조회를 원하는 최종 시세 데이터 일시 (생략시 가장 최근 시세 데이터 일시, UTC 기준)"
   ]
  },
  {
   "cell_type": "code",
   "execution_count": 35,
   "metadata": {},
   "outputs": [
    {
     "name": "stdout",
     "output_type": "stream",
     "text": [
      "[{\"code\":\"CRIX.UPBIT.KRW-BTC\",\"candleDateTime\":\"2018-05-14T11:59:00+00:00\",\"candleDateTimeKst\":\"2018-05-14T20:59:00+09:00\",\"openingPrice\":9566000.00000000,\"highPrice\":9569000.00000000,\"lowPrice\":9563000.00000000,\"tradePrice\":9565000.00000000,\"candleAccTradeVolume\":4.63706487,\"candleAccTradePrice\":44359974.33411000,\"timestamp\":1526299205851,\"unit\":1}]\n"
     ]
    }
   ],
   "source": [
    "print(resp.text)"
   ]
  },
  {
   "cell_type": "code",
   "execution_count": null,
   "metadata": {},
   "outputs": [],
   "source": [
    "https://crix-api-cdn.upbit.com/v1/crix/candles/days?code=CRIX.UPBIT.KRW-BTC&count=2&to=2018-05-14%2000:00:00"
   ]
  },
  {
   "cell_type": "code",
   "execution_count": null,
   "metadata": {},
   "outputs": [],
   "source": []
  },
  {
   "cell_type": "code",
   "execution_count": null,
   "metadata": {},
   "outputs": [],
   "source": [
    "https://crix-api-endpoint.upbit.com/v1/crix/candles/기간타입/기간?code=CRIX.UPBIT.마켓-암호화폐기호&count=시세데이터수&to=최종시세데이터일시"
   ]
  },
  {
   "cell_type": "code",
   "execution_count": null,
   "metadata": {},
   "outputs": [],
   "source": [
    "https://crix-api-cdn.upbit.com/v1/crix/candles/minutes/60?code=CRIX.UPBIT.KRW-BTC&count=2&to=2018-05-14%2012:00:00"
   ]
  },
  {
   "cell_type": "code",
   "execution_count": null,
   "metadata": {},
   "outputs": [],
   "source": [
    "기간타입: minutes, days, weeks, months (hours는 없으며 minutes로 대체)\n",
    "기간: 1, 3, 5, 10, 15, 30, 60, 240 (기간타입 minutes만 해당)\n",
    "마켓: KRW, BTC, ETH, USDT\n",
    "암호화폐기호: BTC, ETH, XRP, STEEM, SBD 등 각 마켓의 지원 암호화폐\n",
    "시세데이터수: 1(기본값), 2, 3, 4 등 원하는 시세 데이터 수 (최종시세데이터일시 기준)\n",
    "최종시세데이터일시: 조회를 원하는 최종 시세 데이터 일시 (생략시 가장 최근 시세 데이터 일시, UTC 기준)"
   ]
  },
  {
   "cell_type": "code",
   "execution_count": null,
   "metadata": {},
   "outputs": [],
   "source": [
    "ar = requests.get('https://api.github.com/user', auth=('user', 'pass'))"
   ]
  },
  {
   "cell_type": "code",
   "execution_count": null,
   "metadata": {},
   "outputs": [],
   "source": [
    "def get_html(url):\n",
    "   _html = \"\"\n",
    "   resp = requests.get(url)\n",
    "   if resp.status_code == 200:\n",
    "      _html = resp.text\n",
    "   return _html"
   ]
  },
  {
   "cell_type": "code",
   "execution_count": null,
   "metadata": {},
   "outputs": [],
   "source": [
    "from bs4 import BeautifulSoup\n",
    "URL = \"http://comic.naver.com/webtoon/list.nhn?titleId=20853&weekday=tue&page=1\"\n",
    "html = get_html(URL)\n",
    "soup = BeautifulSoup(html, 'html.parser')"
   ]
  }
 ],
 "metadata": {
  "kernelspec": {
   "display_name": "Python 3",
   "language": "python",
   "name": "python3"
  },
  "language_info": {
   "codemirror_mode": {
    "name": "ipython",
    "version": 3
   },
   "file_extension": ".py",
   "mimetype": "text/x-python",
   "name": "python",
   "nbconvert_exporter": "python",
   "pygments_lexer": "ipython3",
   "version": "3.6.4"
  }
 },
 "nbformat": 4,
 "nbformat_minor": 2
}
